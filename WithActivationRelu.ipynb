{
  "nbformat": 4,
  "nbformat_minor": 0,
  "metadata": {
    "colab": {
      "name": "Untitled5.ipynb",
      "provenance": []
    },
    "kernelspec": {
      "display_name": "Python 3",
      "name": "python3"
    }
  },
  "cells": [
    {
      "cell_type": "code",
      "metadata": {
        "colab": {
          "base_uri": "https://localhost:8080/"
        },
        "id": "nZ2B-n6fCO6j",
        "outputId": "3b6d3f19-50d0-4ae9-9cb3-721bc8387fb1"
      },
      "source": [
        "from zipfile import ZipFile\r\n",
        "file_name=\"OLD.zip\"\r\n",
        "with ZipFile (file_name,'r') as zip:\r\n",
        "   zip.extractall()\r\n",
        "   print('Done')"
      ],
      "execution_count": null,
      "outputs": [
        {
          "output_type": "stream",
          "text": [
            "Done\n"
          ],
          "name": "stdout"
        }
      ]
    },
    {
      "cell_type": "code",
      "metadata": {
        "colab": {
          "base_uri": "https://localhost:8080/"
        },
        "id": "tPzNGyXqEI2G",
        "outputId": "48853efe-24b6-4ffd-8f57-1dc7810769ae"
      },
      "source": [
        "from zipfile import ZipFile\r\n",
        "file_name=\"Train.zip\"\r\n",
        "with ZipFile (file_name,'r') as zip:\r\n",
        "   zip.extractall()\r\n",
        "   print('Done')"
      ],
      "execution_count": null,
      "outputs": [
        {
          "output_type": "stream",
          "text": [
            "Done\n"
          ],
          "name": "stdout"
        }
      ]
    },
    {
      "cell_type": "code",
      "metadata": {
        "colab": {
          "base_uri": "https://localhost:8080/"
        },
        "id": "EZlPZgQXQmRX",
        "outputId": "e6e7a3c9-9420-467c-e6f1-8fb7ec5c6adb"
      },
      "source": [
        "from zipfile import ZipFile\r\n",
        "file_name=\"MIDDLE.zip\"\r\n",
        "with ZipFile (file_name,'r') as zip:\r\n",
        "   zip.extractall()\r\n",
        "   print('Done')"
      ],
      "execution_count": null,
      "outputs": [
        {
          "output_type": "stream",
          "text": [
            "Done\n"
          ],
          "name": "stdout"
        }
      ]
    },
    {
      "cell_type": "code",
      "metadata": {
        "colab": {
          "base_uri": "https://localhost:8080/"
        },
        "id": "7UujzE_RIZvO",
        "outputId": "1feed171-0af1-4f40-d728-9dc6ec531199"
      },
      "source": [
        "from zipfile import ZipFile\r\n",
        "file_name=\"YOUNG.zip\"\r\n",
        "with ZipFile (file_name,'r') as zip:\r\n",
        "   zip.extractall()\r\n",
        "   print('Done')"
      ],
      "execution_count": null,
      "outputs": [
        {
          "output_type": "stream",
          "text": [
            "Done\n"
          ],
          "name": "stdout"
        }
      ]
    },
    {
      "cell_type": "code",
      "metadata": {
        "id": "zD8sBJO_Q55T"
      },
      "source": [
        "import numpy as np\r\n",
        "import matplotlib.pyplot as plt\r\n",
        "import pandas as pd\r\n",
        "import shutil, sys \r\n",
        "import keras as ks\r\n",
        "from scipy.misc import *\r\n",
        "from keras.layers import Dense, Input\r\n",
        "from keras.optimizers import SGD,Adam\r\n",
        "from keras.models import Model,Sequential\r\n",
        "from shutil import copyfile, move\r\n",
        "from keras.preprocessing.image import ImageDataGenerator\r\n",
        "from keras.layers import Conv2D,GlobalAveragePooling2D\r\n",
        "from keras.layers import LeakyReLU,MaxPooling2D,Dropout\r\n",
        "from keras.layers import BatchNormalization,Flatten\r\n",
        "from keras.callbacks import TensorBoard as tensorbord1\r\n",
        "from PIL import Image, ImageFile"
      ],
      "execution_count": null,
      "outputs": []
    },
    {
      "cell_type": "code",
      "metadata": {
        "id": "l5fkY5hGbQRs"
      },
      "source": [
        "from keras.applications.resnet50 import ResNet50"
      ],
      "execution_count": null,
      "outputs": []
    },
    {
      "cell_type": "code",
      "metadata": {
        "id": "wKOzsBj7bb8N"
      },
      "source": [
        "import os, sys\r\n",
        "from PIL import Image"
      ],
      "execution_count": null,
      "outputs": []
    },
    {
      "cell_type": "code",
      "metadata": {
        "colab": {
          "base_uri": "https://localhost:8080/",
          "height": 195
        },
        "id": "lfuouRbBbgBU",
        "outputId": "efa43415-d6d9-45fe-b09e-7513c6ee5ea4"
      },
      "source": [
        "# load data from dataset\r\n",
        "train_csv = pd.read_csv(\"train.csv\")\r\n",
        "train_csv[\"Class\"].unique()\r\n",
        "train_csv.head()"
      ],
      "execution_count": null,
      "outputs": [
        {
          "output_type": "execute_result",
          "data": {
            "text/html": [
              "<div>\n",
              "<style scoped>\n",
              "    .dataframe tbody tr th:only-of-type {\n",
              "        vertical-align: middle;\n",
              "    }\n",
              "\n",
              "    .dataframe tbody tr th {\n",
              "        vertical-align: top;\n",
              "    }\n",
              "\n",
              "    .dataframe thead th {\n",
              "        text-align: right;\n",
              "    }\n",
              "</style>\n",
              "<table border=\"1\" class=\"dataframe\">\n",
              "  <thead>\n",
              "    <tr style=\"text-align: right;\">\n",
              "      <th></th>\n",
              "      <th>ID</th>\n",
              "      <th>Class</th>\n",
              "    </tr>\n",
              "  </thead>\n",
              "  <tbody>\n",
              "    <tr>\n",
              "      <th>0</th>\n",
              "      <td>377.jpg</td>\n",
              "      <td>MIDDLE</td>\n",
              "    </tr>\n",
              "    <tr>\n",
              "      <th>1</th>\n",
              "      <td>17814.jpg</td>\n",
              "      <td>YOUNG</td>\n",
              "    </tr>\n",
              "    <tr>\n",
              "      <th>2</th>\n",
              "      <td>21283.jpg</td>\n",
              "      <td>MIDDLE</td>\n",
              "    </tr>\n",
              "    <tr>\n",
              "      <th>3</th>\n",
              "      <td>16496.jpg</td>\n",
              "      <td>YOUNG</td>\n",
              "    </tr>\n",
              "    <tr>\n",
              "      <th>4</th>\n",
              "      <td>4487.jpg</td>\n",
              "      <td>MIDDLE</td>\n",
              "    </tr>\n",
              "  </tbody>\n",
              "</table>\n",
              "</div>"
            ],
            "text/plain": [
              "          ID   Class\n",
              "0    377.jpg  MIDDLE\n",
              "1  17814.jpg   YOUNG\n",
              "2  21283.jpg  MIDDLE\n",
              "3  16496.jpg   YOUNG\n",
              "4   4487.jpg  MIDDLE"
            ]
          },
          "metadata": {
            "tags": []
          },
          "execution_count": 12
        }
      ]
    },
    {
      "cell_type": "code",
      "metadata": {
        "id": "7lxN49sxbowa"
      },
      "source": [
        "\r\n",
        "for index, row in train_csv.iterrows():\r\n",
        "    shutil.copy2(\"Train/\"+row[\"ID\"],row[\"Class\"]+\"/\"+row[\"ID\"])"
      ],
      "execution_count": null,
      "outputs": []
    },
    {
      "cell_type": "code",
      "metadata": {
        "colab": {
          "base_uri": "https://localhost:8080/",
          "height": 413
        },
        "id": "WibNcFwLbuIw",
        "outputId": "88b4e5b5-2c1d-480a-b211-7d2ed9f4e41d"
      },
      "source": [
        "#Representing existing 3 classes\r\n",
        "plt.figure(figsize = (16,6))\r\n",
        "plt.style.use(\"fivethirtyeight\")\r\n",
        "train_csv['Class'].value_counts(dropna = False).plot(kind = 'bar',grid = True)\r\n",
        "plt.title(\"Distribtuion of class counts\")\r\n",
        "plt.xticks(rotation = 0)"
      ],
      "execution_count": null,
      "outputs": [
        {
          "output_type": "execute_result",
          "data": {
            "text/plain": [
              "(array([0, 1, 2]), <a list of 3 Text major ticklabel objects>)"
            ]
          },
          "metadata": {
            "tags": []
          },
          "execution_count": 14
        },
        {
          "output_type": "display_data",
          "data": {
            "image/png": "[encoded data removed]",
            "text/plain": [
              "<Figure size 1152x432 with 1 Axes>"
            ]
          },
          "metadata": {
            "tags": []
          }
        }
      ]
    },
    {
      "cell_type": "code",
      "metadata": {
        "colab": {
          "base_uri": "https://localhost:8080/"
        },
        "id": "pRXQDiA6b1HK",
        "outputId": "ea47e578-31c2-4809-a838-e1767d3fd644"
      },
      "source": [
        "batch_size=52\r\n",
        "\r\n",
        "# To handle image loading problem\r\n",
        "\r\n",
        "#parameters of ImageDataGenerator:\r\n",
        "#rescale: rescaling factor. Defaults to None. If None or 0, no rescaling is applied, otherwise we multiply the data by the value provided (after applying all other transformations).\r\n",
        "#shear_range: Float. Shear Intensity (Shear angle in counter-clockwise direction in degrees)\r\n",
        "#zoom_range: Float or [lower, upper]. Range for random zoom.\r\n",
        "#horizontal_flip: Boolean. Randomly flip inputs horizontally.\r\n",
        "\r\n",
        "#parameters of flow_from_directory:\r\n",
        "#directory: Directory where the data is located.\r\n",
        "#target_size:(img_height, img_width).\r\n",
        "#batch_size :size of the batches of data (default: 32).\r\n",
        "#class_mode:one of( \"binary\", \"categorical\", \"input\", \"multi_output\", \"raw\", sparse\")\r\n",
        "#\"binary\": 1D numpy array of binary labels.\r\n",
        "#\"categorical\": 2D numpy array of one-hot encoded labels. Supports multi-label output.\r\n",
        "#\"input\": images identical to input images (mainly used to work with autoencoders).\r\n",
        "#\"multi_output\": list with the values of the different columns.\r\n",
        "#\"raw\": numpy array of values in y_col column(s).\r\n",
        "#\"sparse\": 1D numpy array of integer labels.\r\n",
        "#\"None\": no targets are returned (the generator will only yield batches of image data, which is useful to use in model.predict()).\r\n",
        "\r\n",
        "\r\n",
        "ImageFile.LOAD_TRUNCATED_IMAGES = True\r\n",
        "train_datagen = ImageDataGenerator(rescale = 1./255,\r\n",
        "                                   shear_range = 0.2,\r\n",
        "                                   zoom_range = 0.2,\r\n",
        "                                   horizontal_flip = True)\r\n",
        "\r\n",
        "test_datagen = ImageDataGenerator(rescale = 1./255)\r\n",
        "\r\n",
        "training_set = train_datagen.flow_from_directory('dataset/training',\r\n",
        "                                   target_size = (64, 64),\r\n",
        "                                   batch_size = batch_size,\r\n",
        "                                   class_mode = 'categorical')\r\n",
        "\r\n",
        "validation_set = test_datagen.flow_from_directory('dataset/validation_set',\r\n",
        "                                  target_size = (64, 64),\r\n",
        "                                  batch_size = batch_size,\r\n",
        "                                  class_mode = 'categorical')\r\n",
        "\r\n",
        "test_set = test_datagen.flow_from_directory('dataset/Test',\r\n",
        "                                  target_size = (64, 64),\r\n",
        "                                  batch_size = batch_size,\r\n",
        "                                  class_mode = 'categorical')\r\n",
        "\r\n",
        "print(training_set.class_indices)"
      ],
      "execution_count": null,
      "outputs": [
        {
          "output_type": "stream",
          "text": [
            "Found 19906 images belonging to 3 classes.\n",
            "Found 4158 images belonging to 3 classes.\n",
            "{'MIDDLE': 0, 'OLD': 1, 'YOUNG': 2}\n",
            "<tensorflow.python.keras.preprocessing.image.DirectoryIterator object at 0x7fd6bc057198>\n"
          ],
          "name": "stdout"
        }
      ]
    },
    {
      "cell_type": "code",
      "metadata": {
        "colab": {
          "base_uri": "https://localhost:8080/"
        },
        "id": "vOHbXwjCcAXe",
        "outputId": "d2e792e5-ec5b-45d9-d98f-44bd58a0f287"
      },
      "source": [
        "#conv2D parameters:\r\n",
        "#filters:The first required Conv2D parameter is the number of filters that the convolutional layer will learn.\r\n",
        "#kernel_size:specifying the width and height of the 2D convolution window.\r\n",
        "#The padding parameter of the Keras Conv2D class can take one of two values: ‘valid’ or ‘same’.\r\n",
        "#Setting the value to “valid” parameter means that the input volume is not zero-padded and the spatial dimensions are allowed to reduce via the natural application of convolution.\r\n",
        "#Setting the value to “valid” parameter means that the input volume is not zero-padded and the spatial dimensions are allowed to reduce via the natural application of convolution.\r\n",
        "\r\n",
        "\r\n",
        "model = Sequential()\r\n",
        "#two input layer\r\n",
        "model.add(Conv2D(64, (3, 3),activation='relu', input_shape = (64, 64, 3),padding='same'))# 64x64 RGB images\r\n",
        "model.add(Conv2D(32, (3, 3),activation='relu', input_shape = (64, 64, 3),padding='same'))\r\n",
        "model.add(LeakyReLU(alpha=0.3))\r\n",
        "\r\n",
        "#batch\r\n",
        "model.add(BatchNormalization())\r\n",
        "model.add(MaxPooling2D(pool_size = (2, 2)))\r\n",
        "\r\n",
        "# Dropout\r\n",
        "model.add(Dropout(0.4))\r\n",
        "\r\n",
        "#Max Pooling\r\n",
        "model.add(Conv2D(32, (3, 3)))\r\n",
        "model.add(MaxPooling2D(pool_size = (2, 2)))\r\n",
        "#model.add(Activation('relu'))\r\n",
        "model.add(LeakyReLU(alpha=0.3))\r\n",
        "model.add(BatchNormalization())\r\n",
        "\r\n",
        "# Dropout\r\n",
        "model.add(Dropout(0.3))\r\n",
        "\r\n",
        "#Flatten\r\n",
        "model.add(Flatten())\r\n",
        "model.add(Dense(128,activation='relu'))\r\n",
        "#model.add(Activation('relu'))\r\n",
        "model.add(LeakyReLU(alpha=0.3))\r\n",
        "model.add(Dense(64))\r\n",
        "\r\n",
        "#output layer\r\n",
        "model.add(Dropout(0.5))\r\n",
        "model.add(Dense(3, activation = 'softmax'))\r\n",
        "model.summary()"
      ],
      "execution_count": null,
      "outputs": [
        {
          "output_type": "stream",
          "text": [
            "Model: \"sequential_3\"\n",
            "_________________________________________________________________\n",
            "Layer (type)                 Output Shape              Param #   \n",
            "=================================================================\n",
            "conv2d_9 (Conv2D)            (None, 64, 64, 64)        1792      \n",
            "_________________________________________________________________\n",
            "conv2d_10 (Conv2D)           (None, 64, 64, 32)        18464     \n",
            "_________________________________________________________________\n",
            "leaky_re_lu_6 (LeakyReLU)    (None, 64, 64, 32)        0         \n",
            "_________________________________________________________________\n",
            "batch_normalization_6 (Batch (None, 64, 64, 32)        128       \n",
            "_________________________________________________________________\n",
            "max_pooling2d_6 (MaxPooling2 (None, 32, 32, 32)        0         \n",
            "_________________________________________________________________\n",
            "dropout_9 (Dropout)          (None, 32, 32, 32)        0         \n",
            "_________________________________________________________________\n",
            "conv2d_11 (Conv2D)           (None, 30, 30, 32)        9248      \n",
            "_________________________________________________________________\n",
            "max_pooling2d_7 (MaxPooling2 (None, 15, 15, 32)        0         \n",
            "_________________________________________________________________\n",
            "leaky_re_lu_7 (LeakyReLU)    (None, 15, 15, 32)        0         \n",
            "_________________________________________________________________\n",
            "batch_normalization_7 (Batch (None, 15, 15, 32)        128       \n",
            "_________________________________________________________________\n",
            "dropout_10 (Dropout)         (None, 15, 15, 32)        0         \n",
            "_________________________________________________________________\n",
            "flatten_2 (Flatten)          (None, 7200)              0         \n",
            "_________________________________________________________________\n",
            "dense_9 (Dense)              (None, 128)               921728    \n",
            "_________________________________________________________________\n",
            "leaky_re_lu_8 (LeakyReLU)    (None, 128)               0         \n",
            "_________________________________________________________________\n",
            "dense_10 (Dense)             (None, 64)                8256      \n",
            "_________________________________________________________________\n",
            "dropout_11 (Dropout)         (None, 64)                0         \n",
            "_________________________________________________________________\n",
            "dense_11 (Dense)             (None, 3)                 195       \n",
            "=================================================================\n",
            "Total params: 959,939\n",
            "Trainable params: 959,811\n",
            "Non-trainable params: 128\n",
            "_________________________________________________________________\n"
          ],
          "name": "stdout"
        }
      ]
    },
    {
      "cell_type": "code",
      "metadata": {
        "colab": {
          "base_uri": "https://localhost:8080/"
        },
        "id": "1n6K4g0QcF6p",
        "outputId": "1eacb312-880f-41d3-d85b-e276511a8e32"
      },
      "source": [
        "# compiling the model\r\n",
        "model.compile(optimizer = 'adam', loss = 'categorical_crossentropy', metrics = ['accuracy'])\r\n",
        "#fitting model\r\n",
        "history = model.fit_generator(training_set,\r\n",
        "                         steps_per_epoch = len(training_set),\r\n",
        "                         epochs = 40,\r\n",
        "                         validation_data = validation_set,\r\n",
        "                         validation_steps = len(validation_set),\r\n",
        "#                          callbacks=[tensorbord1],\r\n",
        "                         verbose=2)"
      ],
      "execution_count": null,
      "outputs": [
        {
          "output_type": "stream",
          "text": [
            "/usr/local/lib/python3.6/dist-packages/tensorflow/python/keras/engine/training.py:1844: UserWarning: `Model.fit_generator` is deprecated and will be removed in a future version. Please use `Model.fit`, which supports generators.\n",
            "  warnings.warn('`Model.fit_generator` is deprecated and '\n"
          ],
          "name": "stderr"
        },
        {
          "output_type": "stream",
          "text": [
            "Epoch 1/40\n",
            "383/383 - 470s - loss: 1.0434 - accuracy: 0.5547 - val_loss: 0.7291 - val_accuracy: 0.7588\n",
            "Epoch 2/40\n",
            "383/383 - 471s - loss: 0.8662 - accuracy: 0.6108 - val_loss: 0.7354 - val_accuracy: 0.6758\n",
            "Epoch 3/40\n",
            "383/383 - 470s - loss: 0.8151 - accuracy: 0.6409 - val_loss: 0.7541 - val_accuracy: 0.6566\n",
            "Epoch 4/40\n",
            "383/383 - 473s - loss: 0.7664 - accuracy: 0.6674 - val_loss: 0.7062 - val_accuracy: 0.7006\n",
            "Epoch 5/40\n",
            "383/383 - 472s - loss: 0.7476 - accuracy: 0.6792 - val_loss: 0.5398 - val_accuracy: 0.7997\n",
            "Epoch 6/40\n",
            "383/383 - 471s - loss: 0.7343 - accuracy: 0.6803 - val_loss: 0.5177 - val_accuracy: 0.7977\n",
            "Epoch 7/40\n",
            "383/383 - 471s - loss: 0.7120 - accuracy: 0.6926 - val_loss: 0.6573 - val_accuracy: 0.6881\n",
            "Epoch 8/40\n",
            "383/383 - 469s - loss: 0.7015 - accuracy: 0.6979 - val_loss: 0.6768 - val_accuracy: 0.7044\n",
            "Epoch 9/40\n",
            "383/383 - 468s - loss: 0.6829 - accuracy: 0.7106 - val_loss: 0.6286 - val_accuracy: 0.7177\n",
            "Epoch 10/40\n",
            "383/383 - 469s - loss: 0.6685 - accuracy: 0.7191 - val_loss: 0.7239 - val_accuracy: 0.6777\n",
            "Epoch 11/40\n",
            "383/383 - 469s - loss: 0.6612 - accuracy: 0.7194 - val_loss: 0.7157 - val_accuracy: 0.6359\n",
            "Epoch 12/40\n",
            "383/383 - 468s - loss: 0.6582 - accuracy: 0.7229 - val_loss: 0.6190 - val_accuracy: 0.7131\n",
            "Epoch 13/40\n",
            "383/383 - 469s - loss: 0.6375 - accuracy: 0.7312 - val_loss: 0.6378 - val_accuracy: 0.7379\n",
            "Epoch 14/40\n",
            "383/383 - 468s - loss: 0.6358 - accuracy: 0.7323 - val_loss: 0.5417 - val_accuracy: 0.7828\n",
            "Epoch 15/40\n",
            "383/383 - 470s - loss: 0.6197 - accuracy: 0.7418 - val_loss: 0.7032 - val_accuracy: 0.7013\n",
            "Epoch 16/40\n",
            "383/383 - 469s - loss: 0.6050 - accuracy: 0.7479 - val_loss: 0.8208 - val_accuracy: 0.6352\n",
            "Epoch 17/40\n",
            "383/383 - 471s - loss: 0.6000 - accuracy: 0.7507 - val_loss: 0.5089 - val_accuracy: 0.7792\n",
            "Epoch 18/40\n",
            "383/383 - 473s - loss: 0.5934 - accuracy: 0.7560 - val_loss: 0.4900 - val_accuracy: 0.8119\n",
            "Epoch 19/40\n",
            "383/383 - 470s - loss: 0.5839 - accuracy: 0.7579 - val_loss: 0.6071 - val_accuracy: 0.7229\n",
            "Epoch 20/40\n",
            "383/383 - 471s - loss: 0.5750 - accuracy: 0.7657 - val_loss: 0.4216 - val_accuracy: 0.8300\n",
            "Epoch 21/40\n",
            "383/383 - 472s - loss: 0.5706 - accuracy: 0.7647 - val_loss: 0.4723 - val_accuracy: 0.8095\n",
            "Epoch 22/40\n",
            "383/383 - 472s - loss: 0.5629 - accuracy: 0.7703 - val_loss: 0.4879 - val_accuracy: 0.8064\n",
            "Epoch 23/40\n",
            "383/383 - 469s - loss: 0.5509 - accuracy: 0.7753 - val_loss: 0.4398 - val_accuracy: 0.8256\n",
            "Epoch 24/40\n",
            "383/383 - 470s - loss: 0.5434 - accuracy: 0.7790 - val_loss: 0.4336 - val_accuracy: 0.8211\n",
            "Epoch 25/40\n",
            "383/383 - 469s - loss: 0.5395 - accuracy: 0.7816 - val_loss: 0.4391 - val_accuracy: 0.8213\n",
            "Epoch 26/40\n",
            "383/383 - 471s - loss: 0.5332 - accuracy: 0.7857 - val_loss: 0.4310 - val_accuracy: 0.8249\n",
            "Epoch 27/40\n",
            "383/383 - 471s - loss: 0.5280 - accuracy: 0.7884 - val_loss: 0.4906 - val_accuracy: 0.8018\n",
            "Epoch 28/40\n",
            "383/383 - 472s - loss: 0.5202 - accuracy: 0.7896 - val_loss: 0.3967 - val_accuracy: 0.8487\n",
            "Epoch 29/40\n",
            "383/383 - 470s - loss: 0.5152 - accuracy: 0.7934 - val_loss: 0.4432 - val_accuracy: 0.8247\n",
            "Epoch 30/40\n",
            "383/383 - 473s - loss: 0.5075 - accuracy: 0.7963 - val_loss: 0.4107 - val_accuracy: 0.8408\n",
            "Epoch 31/40\n",
            "383/383 - 475s - loss: 0.5033 - accuracy: 0.7976 - val_loss: 0.3831 - val_accuracy: 0.8427\n",
            "Epoch 32/40\n",
            "383/383 - 477s - loss: 0.4909 - accuracy: 0.8010 - val_loss: 0.3639 - val_accuracy: 0.8559\n",
            "Epoch 33/40\n",
            "383/383 - 476s - loss: 0.4876 - accuracy: 0.8047 - val_loss: 0.3514 - val_accuracy: 0.8660\n",
            "Epoch 34/40\n",
            "383/383 - 479s - loss: 0.4824 - accuracy: 0.8082 - val_loss: 0.3425 - val_accuracy: 0.8672\n",
            "Epoch 35/40\n",
            "383/383 - 475s - loss: 0.4764 - accuracy: 0.8094 - val_loss: 0.3980 - val_accuracy: 0.8473\n",
            "Epoch 36/40\n",
            "383/383 - 477s - loss: 0.4822 - accuracy: 0.8045 - val_loss: 0.4409 - val_accuracy: 0.8148\n",
            "Epoch 37/40\n",
            "383/383 - 478s - loss: 0.4674 - accuracy: 0.8130 - val_loss: 0.4466 - val_accuracy: 0.8172\n",
            "Epoch 38/40\n",
            "383/383 - 477s - loss: 0.4598 - accuracy: 0.8167 - val_loss: 0.4659 - val_accuracy: 0.8148\n",
            "Epoch 39/40\n",
            "383/383 - 472s - loss: 0.4535 - accuracy: 0.8199 - val_loss: 0.3506 - val_accuracy: 0.8629\n",
            "Epoch 40/40\n",
            "383/383 - 474s - loss: 0.4479 - accuracy: 0.8219 - val_loss: 0.3386 - val_accuracy: 0.8709\n"
          ],
          "name": "stdout"
        }
      ]
    },
    {
      "cell_type": "code",
      "metadata": {
        "colab": {
          "base_uri": "https://localhost:8080/",
          "height": 325
        },
        "id": "LBKBAkvDcNeW",
        "outputId": "7b506579-25b9-4a1f-bb3f-356654526e40"
      },
      "source": [
        "loss_train = history.history['loss']\r\n",
        "loss_val = history.history['val_loss']\r\n",
        "epochs = range(1,41)\r\n",
        "plt.plot(epochs, loss_train, 'g', label='Training loss')\r\n",
        "plt.plot(epochs, loss_val, 'b', label='validation loss')\r\n",
        "plt.title('Training and Validation loss')\r\n",
        "plt.xlabel('Epochs')\r\n",
        "plt.ylabel('Loss')\r\n",
        "plt.legend()\r\n",
        "plt.show()"
      ],
      "execution_count": null,
      "outputs": [
        {
          "output_type": "display_data",
          "data": {
            "image/png": "[encoded data removed]",
            "text/plain": [
              "<Figure size 432x288 with 1 Axes>"
            ]
          },
          "metadata": {
            "tags": []
          }
        }
      ]
    },
    {
      "cell_type": "code",
      "metadata": {
        "colab": {
          "base_uri": "https://localhost:8080/",
          "height": 325
        },
        "id": "cmd3xE2LcVh4",
        "outputId": "5b6a31f4-4097-4368-e676-339f5e32af87"
      },
      "source": [
        "loss_train = history.history['accuracy']\r\n",
        "loss_val = history.history['val_accuracy']\r\n",
        "epochs = range(1,41)\r\n",
        "plt.plot(epochs, loss_train, 'g', label='Training accuracy')\r\n",
        "plt.plot(epochs, loss_val, 'b', label='validation accuracy')\r\n",
        "plt.title('Training and Validation accuracy')\r\n",
        "plt.xlabel('Epochs')\r\n",
        "plt.ylabel('Accuracy')\r\n",
        "plt.legend()\r\n",
        "plt.show()"
      ],
      "execution_count": null,
      "outputs": [
        {
          "output_type": "display_data",
          "data": {
            "image/png": "[encoded data removed]",
            "text/plain": [
              "<Figure size 432x288 with 1 Axes>"
            ]
          },
          "metadata": {
            "tags": []
          }
        }
      ]
    }
  ]
}